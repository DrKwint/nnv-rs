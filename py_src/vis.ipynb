{
 "cells": [
  {
   "cell_type": "code",
   "execution_count": 1,
   "metadata": {},
   "outputs": [],
   "source": [
    "import json\n",
    "import matplotlib.pyplot as plt"
   ]
  },
  {
   "cell_type": "code",
   "execution_count": 2,
   "metadata": {},
   "outputs": [],
   "source": [
    "with open('test.json') as in_file:\n",
    "    asterism = json.load(in_file)"
   ]
  },
  {
   "cell_type": "code",
   "execution_count": 4,
   "metadata": {},
   "outputs": [
    {
     "data": {
      "text/plain": [
       "{'constellation': {'arena': [{'star': {'representation': {'basis': {'v': 1,\n",
       "       'dim': [1, 1],\n",
       "       'data': [1.0]},\n",
       "      'shift': {'v': 1, 'dim': [1], 'data': [0.0]}},\n",
       "     'constraints': {'halfspaces': {'coeffs': {'v': 1,\n",
       "        'dim': [1, 1],\n",
       "        'data': [0.0]},\n",
       "       'rhs': {'v': 1, 'dim': [1], 'data': [0.0]},\n",
       "       'bounds': {'data': {'v': 1,\n",
       "         'dim': [2, 1],\n",
       "         'data': [-19.98439598867462, 36.03621336033117]}}}}},\n",
       "    'dnn_index': {'layer': None, 'remaining_steps': None},\n",
       "    'star_cdf': None,\n",
       "    'cdf_delta': 0.0,\n",
       "    'local_bounds': None,\n",
       "    'output_bounds': None,\n",
       "    'is_feasible': True,\n",
       "    'gaussian_distribution': {'Gaussian': {'loc': {'v': 1,\n",
       "       'dim': [1],\n",
       "       'data': [8.025908685828274]},\n",
       "      'scale': {'v': 1, 'dim': [1], 'data': [8.002944192715113]}}}},\n",
       "   {'star': {'representation': {'basis': {'v': 1,\n",
       "       'dim': [1, 1],\n",
       "       'data': [-6.141544027589116]},\n",
       "      'shift': {'v': 1, 'dim': [1], 'data': [-0.616056224128311]}},\n",
       "     'constraints': {'halfspaces': {'coeffs': {'v': 1,\n",
       "        'dim': [1, 1],\n",
       "        'data': [0.0]},\n",
       "       'rhs': {'v': 1, 'dim': [1], 'data': [0.0]},\n",
       "       'bounds': {'data': {'v': 1,\n",
       "         'dim': [2, 1],\n",
       "         'data': [-19.98439598867462, 36.03621336033117]}}}}},\n",
       "    'dnn_index': {'layer': 0, 'remaining_steps': None},\n",
       "    'star_cdf': None,\n",
       "    'cdf_delta': 0.0,\n",
       "    'local_bounds': {'data': {'v': 1,\n",
       "      'dim': [2, 1],\n",
       "      'data': [-221.9340471641973, 122.11899160509219]}},\n",
       "    'output_bounds': [0.0, 1.5171112487055325],\n",
       "    'is_feasible': True,\n",
       "    'gaussian_distribution': None},\n",
       "   {'star': {'representation': {'basis': {'v': 1,\n",
       "       'dim': [1, 1],\n",
       "       'data': [0.0]},\n",
       "      'shift': {'v': 1, 'dim': [1], 'data': [0.0]}},\n",
       "     'constraints': {'halfspaces': {'coeffs': {'v': 1,\n",
       "        'dim': [2, 1],\n",
       "        'data': [0.0, -6.141544027589116]},\n",
       "       'rhs': {'v': 1, 'dim': [2], 'data': [0.0, 0.616056224128311]},\n",
       "       'bounds': {'data': {'v': 1,\n",
       "         'dim': [2, 1],\n",
       "         'data': [-19.98439598867462, 36.03621336033117]}}}}},\n",
       "    'dnn_index': {'layer': 1, 'remaining_steps': 0},\n",
       "    'star_cdf': None,\n",
       "    'cdf_delta': 0.0,\n",
       "    'local_bounds': {'data': {'v': 1, 'dim': [2, 1], 'data': [0.0, 0.0]}},\n",
       "    'output_bounds': [1.5171112487055325, 1.5171112487055325],\n",
       "    'is_feasible': True,\n",
       "    'gaussian_distribution': None},\n",
       "   {'star': {'representation': {'basis': {'v': 1,\n",
       "       'dim': [1, 1],\n",
       "       'data': [-6.141544027589116]},\n",
       "      'shift': {'v': 1, 'dim': [1], 'data': [-0.616056224128311]}},\n",
       "     'constraints': {'halfspaces': {'coeffs': {'v': 1,\n",
       "        'dim': [2, 1],\n",
       "        'data': [0.0, 6.141544027589116]},\n",
       "       'rhs': {'v': 1, 'dim': [2], 'data': [0.0, -0.616056224128311]},\n",
       "       'bounds': {'data': {'v': 1,\n",
       "         'dim': [2, 1],\n",
       "         'data': [-19.98439598867462, 36.03621336033117]}}}}},\n",
       "    'dnn_index': {'layer': 1, 'remaining_steps': 0},\n",
       "    'star_cdf': None,\n",
       "    'cdf_delta': 0.0,\n",
       "    'local_bounds': {'data': {'v': 1,\n",
       "      'dim': [2, 1],\n",
       "      'data': [0.0, 122.11899160509219]}},\n",
       "    'output_bounds': None,\n",
       "    'is_feasible': True,\n",
       "    'gaussian_distribution': None}],\n",
       "  'node_type': [{'Affine': {'child_idx': 1}},\n",
       "   {'StepRelu': {'dim': 0, 'fst_child_idx': 2, 'snd_child_idx': 3}},\n",
       "   None,\n",
       "   None],\n",
       "  'parents': [None, 0, 1, 1],\n",
       "  'loc': {'v': 1, 'dim': [1], 'data': [8.025908685828274]},\n",
       "  'scale': {'v': 1, 'dim': [1, 1], 'data': [8.002944192715113]},\n",
       "  'dnn': {'layers': [{'Dense': {'basis': {'v': 1,\n",
       "       'dim': [1, 1],\n",
       "       'data': [-6.141544027589116]},\n",
       "      'shift': {'v': 1, 'dim': [1], 'data': [-0.616056224128311]}}},\n",
       "    {'ReLU': 1},\n",
       "    {'Dense': {'basis': {'v': 1, 'dim': [1, 1], 'data': [-9.75806880110012]},\n",
       "      'shift': {'v': 1, 'dim': [1], 'data': [1.5171112487055325]}}},\n",
       "    {'ReLU': 1}]},\n",
       "  'max_accept_reject_iters': 4,\n",
       "  'num_cdf_samples': 100,\n",
       "  'stability_eps': 1e-10},\n",
       " 'safe_value': 1.0,\n",
       " 'is_feasible': [True]}"
      ]
     },
     "execution_count": 4,
     "metadata": {},
     "output_type": "execute_result"
    }
   ],
   "source": [
    "asterism"
   ]
  }
 ],
 "metadata": {
  "interpreter": {
   "hash": "aee8b7b246df8f9039afb4144a1f6fd8d2ca17a180786b69acc140d282b71a49"
  },
  "kernelspec": {
   "display_name": "Python 3.8.6 64-bit",
   "language": "python",
   "name": "python3"
  },
  "language_info": {
   "codemirror_mode": {
    "name": "ipython",
    "version": 3
   },
   "file_extension": ".py",
   "mimetype": "text/x-python",
   "name": "python",
   "nbconvert_exporter": "python",
   "pygments_lexer": "ipython3",
   "version": "3.8.6"
  },
  "orig_nbformat": 4
 },
 "nbformat": 4,
 "nbformat_minor": 2
}

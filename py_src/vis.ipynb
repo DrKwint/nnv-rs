{
 "cells": [
  {
   "cell_type": "code",
   "execution_count": 22,
   "metadata": {},
   "outputs": [],
   "source": [
    "import json\n",
    "import matplotlib.pyplot as plt\n",
    "import shapely\n",
    "from shapely.geometry import Polygon, LineString\n",
    "from shapely.ops import split\n",
    "import numpy as np"
   ]
  },
  {
   "cell_type": "code",
   "execution_count": 3,
   "metadata": {},
   "outputs": [],
   "source": [
    "with open('test.json') as in_file:\n",
    "    asterism = json.load(in_file)"
   ]
  },
  {
   "cell_type": "code",
   "execution_count": 53,
   "metadata": {},
   "outputs": [],
   "source": [
    "nodes = asterism['constellation']['arena']\n",
    "root_node = nodes[0]\n",
    "bounds = root_node['star']['constraints']['halfspaces']['bounds']['data']['data']\n",
    "parents = asterism['constellation']['parents']\n",
    "\n",
    "cons_coeffs = [node['star']['constraints']['halfspaces']['coeffs'] for node in nodes]\n",
    "cons_coeffs = [np.reshape(node['data'], node['dim']) for node in cons_coeffs]\n",
    "cons_rhs = [node['star']['constraints']['halfspaces']['rhs'] for node in nodes]\n",
    "cons_rhs = [np.reshape(node['data'], node['dim']) for node in cons_rhs]\n",
    "\n",
    "def check_ineq(i, point):\n",
    "    ineq_test = np.matmul(cons_coeffs[i], point) <= cons_rhs[i]\n",
    "    return np.all(ineq_test)    "
   ]
  },
  {
   "cell_type": "code",
   "execution_count": 56,
   "metadata": {},
   "outputs": [
    {
     "name": "stdout",
     "output_type": "stream",
     "text": [
      "Found child geom  2\n",
      "Found child geom  3\n"
     ]
    }
   ],
   "source": [
    "boxes = []\n",
    "\n",
    "bounds_box = Polygon([(bounds[0], bounds[1]), (bounds[2], bounds[1]), (bounds[2], bounds[3]),\n",
    "                  (bounds[0], bounds[3]), (bounds[0], bounds[1])])\n",
    "boxes.append(bounds_box)\n",
    "\n",
    "for i, parent in enumerate(parents):\n",
    "    if parent is None:\n",
    "        continue\n",
    "\n",
    "    if np.all(cons_coeffs[i][-1] == 0.) and cons_rhs[i][-1] == 0.:\n",
    "        line = None\n",
    "    elif np.all(cons_coeffs[i][-1] == 0.):\n",
    "        print('Reached contradictory polygon')\n",
    "        line = None\n",
    "    elif cons_coeffs[i][-1][1] == 0.:\n",
    "        x = cons_rhs[i][-1] / cons_coeffs[i][-1][0]\n",
    "        line = LineString([(x, bounds[1]), (x, bounds[3])])\n",
    "    else:\n",
    "        slope = -cons_coeffs[i][-1][0] / cons_coeffs[i][-1][1]\n",
    "        intercept = cons_rhs[i][-1] / cons_coeffs[i][-1][1]\n",
    "        left = (bounds[0], slope * bounds[0] + intercept)\n",
    "        right = (bounds[2], slope * bounds[2] + intercept)\n",
    "        line = LineString([left, right])\n",
    "\n",
    "    if line:\n",
    "        parent_poly = boxes[parent]\n",
    "        child_polys = split(parent_poly, line)\n",
    "        for geom in child_polys.geoms:\n",
    "            if check_ineq(i, np.array([geom.centroid.x, geom.centroid.y])):\n",
    "                boxes.append(geom)\n",
    "                print('Found child geom ', i)\n",
    "    else:\n",
    "        boxes.append(boxes[parent])\n"
   ]
  },
  {
   "cell_type": "code",
   "execution_count": 57,
   "metadata": {},
   "outputs": [
    {
     "data": {
      "image/png": "[encoded data removed]",
      "text/plain": [
       "<Figure size 432x288 with 1 Axes>"
      ]
     },
     "metadata": {
      "needs_background": "light"
     },
     "output_type": "display_data"
    }
   ],
   "source": [
    "fig, axs = plt.subplots()\n",
    "for geom in boxes:\n",
    "    xs, ys = geom.exterior.xy\n",
    "    axs.fill(xs, ys, alpha=0.5, ec='none')\n",
    "\n",
    "plt.show()"
   ]
  }
 ],
 "metadata": {
  "interpreter": {
   "hash": "aee8b7b246df8f9039afb4144a1f6fd8d2ca17a180786b69acc140d282b71a49"
  },
  "kernelspec": {
   "display_name": "Python 3.8.6 64-bit",
   "language": "python",
   "name": "python3"
  },
  "language_info": {
   "codemirror_mode": {
    "name": "ipython",
    "version": 3
   },
   "file_extension": ".py",
   "mimetype": "text/x-python",
   "name": "python",
   "nbconvert_exporter": "python",
   "pygments_lexer": "ipython3",
   "version": "3.8.6"
  },
  "orig_nbformat": 4
 },
 "nbformat": 4,
 "nbformat_minor": 2
}
